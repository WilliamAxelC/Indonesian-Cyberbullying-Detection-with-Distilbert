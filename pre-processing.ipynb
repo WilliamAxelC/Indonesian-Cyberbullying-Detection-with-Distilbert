{
 "cells": [
  {
   "cell_type": "code",
   "execution_count": 19,
   "metadata": {},
   "outputs": [],
   "source": [
    "# %pip install --upgrade pandas"
   ]
  },
  {
   "cell_type": "code",
   "execution_count": 20,
   "metadata": {},
   "outputs": [
    {
     "data": {
      "text/html": [
       "<div>\n",
       "<style scoped>\n",
       "    .dataframe tbody tr th:only-of-type {\n",
       "        vertical-align: middle;\n",
       "    }\n",
       "\n",
       "    .dataframe tbody tr th {\n",
       "        vertical-align: top;\n",
       "    }\n",
       "\n",
       "    .dataframe thead th {\n",
       "        text-align: right;\n",
       "    }\n",
       "</style>\n",
       "<table border=\"1\" class=\"dataframe\">\n",
       "  <thead>\n",
       "    <tr style=\"text-align: right;\">\n",
       "      <th></th>\n",
       "      <th>No</th>\n",
       "      <th>Dataset</th>\n",
       "      <th>Path</th>\n",
       "      <th>URL</th>\n",
       "    </tr>\n",
       "  </thead>\n",
       "  <tbody>\n",
       "    <tr>\n",
       "      <th>0</th>\n",
       "      <td>1</td>\n",
       "      <td>Cyberbullying_Bahasa_Indonesia-Kaggle-CitaTiar...</td>\n",
       "      <td>./Cyberbullying_Bahasa_Indonesia-Kaggle-CitaTi...</td>\n",
       "      <td>Cyberbullying Bahasa Indonesia</td>\n",
       "    </tr>\n",
       "    <tr>\n",
       "      <th>1</th>\n",
       "      <td>2</td>\n",
       "      <td>cyberbullying_dataset-Huggingface-aditdwi123</td>\n",
       "      <td>./cyberbullying_dataset-Huggingface-aditdwi123...</td>\n",
       "      <td>aditdwi123/cyber-bullying-dataset at main</td>\n",
       "    </tr>\n",
       "    <tr>\n",
       "      <th>2</th>\n",
       "      <td>3</td>\n",
       "      <td>dataset_komentar_instagram_cyberbullying-githu...</td>\n",
       "      <td>./dataset_komentar_instagram_cyberbullying-git...</td>\n",
       "      <td>Dataset-Sentimen-Analisis-Bahasa-Indonesia/dat...</td>\n",
       "    </tr>\n",
       "    <tr>\n",
       "      <th>3</th>\n",
       "      <td>4</td>\n",
       "      <td>dataset_luqyana</td>\n",
       "      <td>./Luqyana-Dataset/dataset_1.4k_clean_luqyana.csv</td>\n",
       "      <td>https://j-ptiik.ub.ac.id/index.php/j-ptiik/art...</td>\n",
       "    </tr>\n",
       "  </tbody>\n",
       "</table>\n",
       "</div>"
      ],
      "text/plain": [
       "   No                                            Dataset  \\\n",
       "0   1  Cyberbullying_Bahasa_Indonesia-Kaggle-CitaTiar...   \n",
       "1   2       cyberbullying_dataset-Huggingface-aditdwi123   \n",
       "2   3  dataset_komentar_instagram_cyberbullying-githu...   \n",
       "3   4                                    dataset_luqyana   \n",
       "\n",
       "                                                Path  \\\n",
       "0  ./Cyberbullying_Bahasa_Indonesia-Kaggle-CitaTi...   \n",
       "1  ./cyberbullying_dataset-Huggingface-aditdwi123...   \n",
       "2  ./dataset_komentar_instagram_cyberbullying-git...   \n",
       "3   ./Luqyana-Dataset/dataset_1.4k_clean_luqyana.csv   \n",
       "\n",
       "                                                 URL  \n",
       "0                     Cyberbullying Bahasa Indonesia  \n",
       "1          aditdwi123/cyber-bullying-dataset at main  \n",
       "2  Dataset-Sentimen-Analisis-Bahasa-Indonesia/dat...  \n",
       "3  https://j-ptiik.ub.ac.id/index.php/j-ptiik/art...  "
      ]
     },
     "execution_count": 20,
     "metadata": {},
     "output_type": "execute_result"
    }
   ],
   "source": [
    "import pandas as pd\n",
    "\n",
    "dataset_path = \"Dataset\\dataset_list.csv\"\n",
    "\n",
    "# Load dataset list\n",
    "dataset_list_df  = pd.read_csv(dataset_path, encoding_errors='replace')\n",
    "dataset_list_df.head(10)\n"
   ]
  },
  {
   "cell_type": "code",
   "execution_count": 21,
   "metadata": {},
   "outputs": [
    {
     "name": "stdout",
     "output_type": "stream",
     "text": [
      "Loaded dataset_1_Cyberbullying_Bahasa_Indonesia-Kaggle-CitaTiaraHanni with selected columns from ./Dataset/Cyberbullying_Bahasa_Indonesia-Kaggle-CitaTiaraHanni/DATASET CYBERBULLYING INSTAGRAM - FINAL.csv\n",
      "Loaded dataset_2_cyberbullying_dataset-Huggingface-aditdwi123 with selected columns from ./Dataset/cyberbullying_dataset-Huggingface-aditdwi123/sentiment_data.csv\n",
      "Loaded dataset_3_dataset_komentar_instagram_cyberbullying-github-rizalespe with selected columns from ./Dataset/dataset_komentar_instagram_cyberbullying-github-rizalespe/dataset_komentar_instagram_cyberbullying.csv\n",
      "Loaded dataset_4_dataset_luqyana with selected columns from ./Dataset/Luqyana-Dataset/dataset_1.4k_clean_luqyana.csv\n"
     ]
    }
   ],
   "source": [
    "# Dictionary to store datasets\n",
    "datasets = {}\n",
    "\n",
    "# Iterate over the dataset list and load each dataset\n",
    "for idx, row in dataset_list_df.iterrows():\n",
    "    dataset_name = f\"dataset_{idx+1}_{row['Dataset'].replace(' ', '_')}\"\n",
    "    dataset_path = './Dataset/' + row['Path'].strip(\"./\")\n",
    "    try:\n",
    "        df = pd.read_csv(dataset_path)\n",
    "        # Keep only the necessary columns used for training, 'Label' and 'String'\n",
    "        if {'Label', 'String'}.issubset(df.columns):\n",
    "            datasets[dataset_name] = df[['Label', 'String']]\n",
    "            print(f\"Loaded {dataset_name} with selected columns from {dataset_path}\")\n",
    "        else:\n",
    "            print(f\"{dataset_name} missing required columns, skipping.\")\n",
    "    except Exception as e:\n",
    "        print(f\"Failed to load {dataset_name}: {e}\")"
   ]
  },
  {
   "cell_type": "code",
   "execution_count": 22,
   "metadata": {},
   "outputs": [],
   "source": [
    "import csv\n",
    "import re\n",
    "\n",
    "# Load stopwords (common words to ignore, as they do not contribute to the meaning of the text)\n",
    "with open('./Dataset/stopwordbahasa.csv', 'r') as f:\n",
    "    stopwords = set([line.strip() for line in f])\n",
    "\n",
    "# Load word shortening dictionary (abbreviations can be harmful for understanding and model accuracy)\n",
    "word_map = {}\n",
    "with open('./Dataset/kamus_singkatan.csv', 'r') as f:\n",
    "    reader = csv.reader(f)\n",
    "    next(reader)\n",
    "    word_map = {row[1].strip(): row[2].strip() for row in reader}\n"
   ]
  },
  {
   "cell_type": "code",
   "execution_count": 23,
   "metadata": {},
   "outputs": [
    {
     "name": "stdout",
     "output_type": "stream",
     "text": [
      "\n",
      "dataset_1_Cyberbullying_Bahasa_Indonesia-Kaggle-CitaTiaraHanni Label Distribution Before Pre-Processing:\n",
      "Label\n",
      "Non-bullying    325\n",
      "Bullying        325\n",
      "Name: count, dtype: int64\n",
      "\n",
      "dataset_2_cyberbullying_dataset-Huggingface-aditdwi123 Label Distribution Before Pre-Processing:\n",
      "Label\n",
      "negatif    627\n",
      "positif    476\n",
      "Name: count, dtype: int64\n",
      "\n",
      "dataset_3_dataset_komentar_instagram_cyberbullying-github-rizalespe Label Distribution Before Pre-Processing:\n",
      "Label\n",
      "negative    200\n",
      "positive    200\n",
      "Name: count, dtype: int64\n",
      "\n",
      "dataset_4_dataset_luqyana Label Distribution Before Pre-Processing:\n",
      "Label\n",
      "bullying       700\n",
      "tidak bully    699\n",
      "Name: count, dtype: int64\n"
     ]
    }
   ],
   "source": [
    "for name, df in datasets.items():\n",
    "    print(f\"\\n{name} Label Distribution Before Pre-Processing:\")\n",
    "    if 'Label' in df.columns:\n",
    "        print(df['Label'].value_counts(dropna=False))\n",
    "    else:\n",
    "        print(\"No 'Label' column found.\")"
   ]
  },
  {
   "cell_type": "code",
   "execution_count": 24,
   "metadata": {},
   "outputs": [
    {
     "name": "stdout",
     "output_type": "stream",
     "text": [
      "Done Pre-Processing \"dataset_1_Cyberbullying_Bahasa_Indonesia-Kaggle-CitaTiaraHanni\".\n",
      "Done Pre-Processing \"dataset_2_cyberbullying_dataset-Huggingface-aditdwi123\".\n",
      "Done Pre-Processing \"dataset_3_dataset_komentar_instagram_cyberbullying-github-rizalespe\".\n",
      "Done Pre-Processing \"dataset_4_dataset_luqyana\".\n"
     ]
    }
   ],
   "source": [
    "import re\n",
    "\n",
    "def preprocess_text(text):\n",
    "    # Lowercase for consistency\n",
    "    text = text.lower()\n",
    "\n",
    "    # Replace usernames with placeholder\n",
    "    text = re.sub(r'@\\w+', '<USERNAME>', text)\n",
    "\n",
    "    # Tokenize (preserves <USERNAME> as a whole token)\n",
    "    tokens = re.findall(r'<USERNAME>|\\b\\w+\\b', text)\n",
    "\n",
    "    # Replace abbreviations and remove stopwords\n",
    "    processed = [\n",
    "        word_map.get(token, token)\n",
    "        for token in tokens\n",
    "        if token not in stopwords\n",
    "    ]\n",
    "\n",
    "    return \" \".join(processed)\n",
    "\n",
    "\n",
    "# Encode label to standardize it between datasets\n",
    "def label_encoding(label):\n",
    "    # Negative Labels in the datasets include: \"negative\", \"Bullying\", \"negatif\", 0. To be converted to 0\n",
    "    # Positive Labels in the datasets include: \"positive\", \"Non-bullying\", \"positif\", 1. To be converted to 1\n",
    "    if label.lower() in ['negative', 'bullying', 'negatif', '0']:\n",
    "        return 0\n",
    "    elif label.lower() in ['positive', 'non-bullying', 'tidak bully', 'positif', '1']:\n",
    "        return 1\n",
    "    else:\n",
    "        return -1\n",
    "\n",
    "\n",
    "# Apply preprocessing + label encoding\n",
    "for name, df in datasets.items():\n",
    "    df = df.drop_duplicates(subset=\"String\", keep=\"first\").reset_index(drop=True)\n",
    "    df['clean_text'] = df['String'].astype(str).apply(preprocess_text)\n",
    "    df['encoded_label'] = df['Label'].astype(str).apply(label_encoding)\n",
    "    df = df[df['encoded_label'] != -1]\n",
    "    datasets[name] = df\n",
    "    print(f'Done Pre-Processing \\\"{name}\\\".')"
   ]
  },
  {
   "cell_type": "code",
   "execution_count": 25,
   "metadata": {},
   "outputs": [
    {
     "name": "stdout",
     "output_type": "stream",
     "text": [
      "\n",
      "dataset_1_Cyberbullying_Bahasa_Indonesia-Kaggle-CitaTiaraHanni Label Distribution:\n",
      "encoded_label\n",
      "1    325\n",
      "0    325\n",
      "Name: count, dtype: int64\n",
      "\n",
      "dataset_2_cyberbullying_dataset-Huggingface-aditdwi123 Label Distribution:\n",
      "encoded_label\n",
      "0    614\n",
      "1    405\n",
      "Name: count, dtype: int64\n",
      "\n",
      "dataset_3_dataset_komentar_instagram_cyberbullying-github-rizalespe Label Distribution:\n",
      "encoded_label\n",
      "1    200\n",
      "0    197\n",
      "Name: count, dtype: int64\n",
      "\n",
      "dataset_4_dataset_luqyana Label Distribution:\n",
      "encoded_label\n",
      "0    694\n",
      "1    675\n",
      "Name: count, dtype: int64\n",
      "\n",
      "combined_123 Label Distribution:\n",
      "encoded_label\n",
      "0    1136\n",
      "1     930\n",
      "Name: count, dtype: int64\n",
      "\n",
      "combined_1234 Label Distribution:\n",
      "encoded_label\n",
      "0    1830\n",
      "1    1605\n",
      "Name: count, dtype: int64\n"
     ]
    }
   ],
   "source": [
    "# Create individual combined datasets\n",
    "combined_123 = pd.concat(\n",
    "    [datasets[name] for name in list(datasets.keys())[:3]],\n",
    "    ignore_index=True\n",
    ")\n",
    "combined_123[\"encoded_label\"] = combined_123[\"encoded_label\"].astype(int)\n",
    "\n",
    "combined_1234 = pd.concat(\n",
    "    [datasets[name] for name in list(datasets.keys())[:4]],\n",
    "    ignore_index=True\n",
    ")\n",
    "combined_1234[\"encoded_label\"] = combined_1234[\"encoded_label\"].astype(int)\n",
    "\n",
    "# Store them back into the dict\n",
    "datasets[\"combined_123\"] = combined_123\n",
    "datasets[\"combined_1234\"] = combined_1234\n",
    "\n",
    "# Print distributions\n",
    "for name, df in datasets.items():\n",
    "    print(f\"\\n{name} Label Distribution:\")\n",
    "    if \"encoded_label\" in df.columns:\n",
    "        print(df[\"encoded_label\"].value_counts(dropna=False))\n",
    "    else:\n",
    "        print(\"No 'encoded_label' column found.\")\n"
   ]
  },
  {
   "cell_type": "code",
   "execution_count": 26,
   "metadata": {},
   "outputs": [
    {
     "name": "stdout",
     "output_type": "stream",
     "text": [
      "Dataset dataset_1_Cyberbullying_Bahasa_Indonesia-Kaggle-CitaTiaraHanni exported\n",
      "Dataset dataset_2_cyberbullying_dataset-Huggingface-aditdwi123 exported\n",
      "Dataset dataset_3_dataset_komentar_instagram_cyberbullying-github-rizalespe exported\n",
      "Dataset dataset_4_dataset_luqyana exported\n",
      "Dataset combined_123 exported\n",
      "Dataset combined_1234 exported\n"
     ]
    }
   ],
   "source": [
    "for name, df in datasets.items():\n",
    "    datasets[name].to_csv(f'./Dataset/Pre-Processed Dataset/{name}.csv')\n",
    "    print(f'Dataset {name} exported')"
   ]
  }
 ],
 "metadata": {
  "kernelspec": {
   "display_name": "tGPU3.8",
   "language": "python",
   "name": "python3"
  },
  "language_info": {
   "codemirror_mode": {
    "name": "ipython",
    "version": 3
   },
   "file_extension": ".py",
   "mimetype": "text/x-python",
   "name": "python",
   "nbconvert_exporter": "python",
   "pygments_lexer": "ipython3",
   "version": "3.8.19"
  }
 },
 "nbformat": 4,
 "nbformat_minor": 2
}
