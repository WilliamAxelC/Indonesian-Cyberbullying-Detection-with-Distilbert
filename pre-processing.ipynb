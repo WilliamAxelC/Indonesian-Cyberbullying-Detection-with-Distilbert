{
 "cells": [
  {
   "cell_type": "code",
   "execution_count": null,
   "metadata": {},
   "outputs": [],
   "source": [
    "%pip install --upgrade pandas"
   ]
  },
  {
   "cell_type": "code",
   "execution_count": null,
   "metadata": {},
   "outputs": [],
   "source": [
    "import pandas as pd\n",
    "\n",
    "# Load Dataset List\n",
    "dataset_list_df  = pd.read_csv('./Dataset/dataset_list.csv')\n",
    "dataset_list_df.head(10)\n",
    "\n",
    "# Dictionary to store each dataset\n",
    "datasets = {}\n",
    "\n",
    "# Iterate over the dataset list and load each dataset\n",
    "for idx, row in dataset_list_df.iterrows():\n",
    "    dataset_name = f\"dataset_{idx+1}\"\n",
    "    dataset_path = './Dataset/' + row['Path'].strip(\"./\")\n",
    "    try:\n",
    "        df = pd.read_csv(dataset_path)\n",
    "        # Keep only the 'Label' and 'String' columns if they exist\n",
    "        if {'Label', 'String'}.issubset(df.columns):\n",
    "            datasets[dataset_name] = df[['Label', 'String']]\n",
    "            print(f\"Loaded {dataset_name} with selected columns from {dataset_path}\")\n",
    "        else:\n",
    "            print(f\"{dataset_name} missing required columns, skipping.\")\n",
    "    except Exception as e:\n",
    "        print(f\"Failed to load {dataset_name}: {e}\")\n"
   ]
  },
  {
   "cell_type": "code",
   "execution_count": null,
   "metadata": {},
   "outputs": [],
   "source": [
    "import csv\n",
    "import re\n",
    "\n",
    "# Load stopwords\n",
    "with open('./Dataset/stopwordbahasa.csv', 'r') as f:\n",
    "    stopwords = set([line.strip() for line in f])\n",
    "\n",
    "# Load word shortening dictionary\n",
    "word_map = {}\n",
    "with open('./Dataset/kamus_singkatan.csv', 'r') as f:\n",
    "    reader = csv.reader(f)\n",
    "    next(reader)\n",
    "    word_map = {row[1].strip(): row[2].strip() for row in reader}\n"
   ]
  },
  {
   "cell_type": "code",
   "execution_count": null,
   "metadata": {},
   "outputs": [],
   "source": [
    "def preprocess_text(text):\n",
    "    # Lowercase and tokenize\n",
    "    tokens = re.findall(r'\\b\\w+\\b', text.lower())\n",
    "\n",
    "    # Replace short words and remove stopwords\n",
    "    processed = [\n",
    "        word_map.get(token, token)\n",
    "        for token in tokens\n",
    "        if token not in stopwords and not token.startswith('@')\n",
    "    ]\n",
    "\n",
    "    return \" \".join(processed)\n",
    "\n",
    "# Encode label to standardize it between datasets\n",
    "def label_encoding(label):\n",
    "    # Negative Labels in the datasets include: \"negative\", \"Bullying\", \"negatif\", 0. To be converted to 0\n",
    "    # Positive Labels in the datasets include: \"positive\", \"Non-bullying\", \"positif\", 1. To be converted to 1\n",
    "    if label in ['negative', 'Bullying', 'negatif', '0']:\n",
    "        return 0\n",
    "    elif label in ['positive', 'Non-bullying', 'positif', '1']:\n",
    "        return 1\n",
    "    else:\n",
    "        return -1\n",
    "\n",
    "# Apply to your data\n",
    "for name, df in datasets.items():\n",
    "  df = df.drop_duplicates(subset=\"String\", keep=\"first\").reset_index(drop=True)\n",
    "  df['clean_text'] = df['String'].astype(str).apply(preprocess_text)\n",
    "  df['encoded_label'] = df['Label'].astype(str).apply(label_encoding)\n",
    "  df = df[df['encoded_label'] != -1]\n",
    "  datasets[name] = df\n",
    "  print(f'Done Pre-Processing \"{name}\".')"
   ]
  },
  {
   "cell_type": "code",
   "execution_count": null,
   "metadata": {},
   "outputs": [],
   "source": [
    "combined_dataset = pd.DataFrame(columns=[\"Label\", \"clean_text\"])\n",
    "\n",
    "for name, df in datasets.items():\n",
    "    combined_dataset = pd.concat([combined_dataset, df], ignore_index=True)\n",
    "\n",
    "print(\"Combined dataset shape:\", combined_dataset.shape)\n",
    "\n",
    "datasets[\"combined_dataset\"] = combined_dataset\n",
    "\n",
    "for name, df in datasets.items():\n",
    "    print(f\"\\n{name} Label Distribution:\")\n",
    "    if 'encoded_label' in df.columns:\n",
    "        print(df['encoded_label'].value_counts(dropna=False))\n",
    "    else:\n",
    "        print(\"No 'encoded_label' column found.\")"
   ]
  },
  {
   "cell_type": "code",
   "execution_count": null,
   "metadata": {},
   "outputs": [],
   "source": [
    "for name, df in datasets.items():\n",
    "    datasets[name].to_csv(f'./Dataset/Pre-Processed Dataset/{name}.csv')\n",
    "    print(f'Dataset {name} exported')"
   ]
  }
 ],
 "metadata": {
  "kernelspec": {
   "display_name": "tGPU3.8",
   "language": "python",
   "name": "python3"
  },
  "language_info": {
   "codemirror_mode": {
    "name": "ipython",
    "version": 3
   },
   "file_extension": ".py",
   "mimetype": "text/x-python",
   "name": "python",
   "nbconvert_exporter": "python",
   "pygments_lexer": "ipython3",
   "version": "3.8.19"
  }
 },
 "nbformat": 4,
 "nbformat_minor": 2
}
